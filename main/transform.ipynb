{
 "cells": [
  {
   "cell_type": "code",
   "execution_count": 1,
   "metadata": {},
   "outputs": [],
   "source": [
    "import pandas as pd"
   ]
  },
  {
   "cell_type": "code",
   "execution_count": null,
   "metadata": {},
   "outputs": [],
   "source": [
    "\n",
    "coaches = pd.read_csv(\"../data/coaches.csv\", encoding='unicode_escape')\n",
    "entriesgender = pd.read_csv(\"../data/entriesgender.csv\", encoding='unicode_escape')\n",
    "medals = pd.read_csv(\"../data/medals.csv\", encoding='unicode_escape')\n"
   ]
  },
  {
   "cell_type": "markdown",
   "metadata": {},
   "source": [
    "Analysis of Athletes informations in Tokyo 2021\n",
    "# which country competes the most in the olympics\n",
    "    - United States of America\n",
    "# which country competes in olympics the least athletes?\n",
    "    - New Zealand"
   ]
  },
  {
   "cell_type": "code",
   "execution_count": null,
   "metadata": {},
   "outputs": [],
   "source": [
    "athletes = pd.read_csv(\"../data/athletes.csv\", encoding='unicode_escape')\n",
    "print(athletes.groupby('COUNTRY')['PERSONNAME'].count().sort_values(ascending=False).head(15))"
   ]
  },
  {
   "cell_type": "markdown",
   "metadata": {},
   "source": [
    "# Which Olympic game where the most athletes compete?\n",
    "    # Athletics\n",
    "# Which Olympic game where the least athletes compete?\n",
    "    # Cycling BMX Freestyle"
   ]
  },
  {
   "cell_type": "code",
   "execution_count": null,
   "metadata": {},
   "outputs": [],
   "source": [
    "print(athletes.groupby('DISCIPLINE')['PERSONNAME'].count().sort_values(ascending=False))"
   ]
  },
  {
   "cell_type": "markdown",
   "metadata": {},
   "source": [
    "# Analysis of Teams informations in Tokyo 2021\n"
   ]
  },
  {
   "cell_type": "code",
   "execution_count": 15,
   "metadata": {},
   "outputs": [
    {
     "name": "stdout",
     "output_type": "stream",
     "text": [
      "DISCIPLINE\n",
      "Swimming               113\n",
      "Athletics               79\n",
      "Cycling Track           64\n",
      "Archery                 53\n",
      "Fencing                 52\n",
      "Table Tennis            48\n",
      "Beach Volleyball        48\n",
      "Artistic Swimming       32\n",
      "Football                28\n",
      "Artistic Gymnastics     24\n",
      "Volleyball              24\n",
      "Basketball              24\n",
      "Rugby Sevens            24\n",
      "Handball                24\n",
      "Hockey                  24\n",
      "Water Polo              22\n",
      "Triathlon               18\n",
      "3x3 Basketball          16\n",
      "Rhythmic Gymnastics     14\n",
      "Baseball/Softball       12\n",
      "Name: TEAMNAME, dtype: int64\n",
      "              TEAMNAME DISCIPLINE            COUNTRY EVENT\n",
      "404          Argentina   Football          Argentina   Men\n",
      "405          Australia   Football          Australia   Men\n",
      "407             Brazil   Football             Brazil   Men\n",
      "412  Cï¿½te dï¿½Ivoire   Football    Cï¿½te d'Ivoire   Men\n",
      "413              Egypt   Football              Egypt   Men\n",
      "414             France   Football             France   Men\n",
      "415            Germany   Football            Germany   Men\n",
      "417           Honduras   Football           Honduras   Men\n",
      "418              Japan   Football              Japan   Men\n",
      "420             Mexico   Football             Mexico   Men\n",
      "422        New Zealand   Football        New Zealand   Men\n",
      "424  Republic of Korea   Football  Republic of Korea   Men\n",
      "425            Romania   Football            Romania   Men\n",
      "426       Saudi Arabia   Football       Saudi Arabia   Men\n",
      "427       South Africa   Football       South Africa   Men\n",
      "428              Spain   Football              Spain   Men\n",
      "          TEAMNAME DISCIPLINE                     COUNTRY  EVENT\n",
      "406      Australia   Football                   Australia  Women\n",
      "408         Brazil   Football                      Brazil  Women\n",
      "409         Canada   Football                      Canada  Women\n",
      "410          Chile   Football                       Chile  Women\n",
      "411          China   Football  People's Republic of China  Women\n",
      "416  Great Britain   Football               Great Britain  Women\n",
      "419          Japan   Football                       Japan  Women\n",
      "421    Netherlands   Football                 Netherlands  Women\n",
      "423    New Zealand   Football                 New Zealand  Women\n",
      "429         Sweden   Football                      Sweden  Women\n",
      "430  United States   Football    United States of America  Women\n",
      "431         Zambia   Football                      Zambia  Women\n",
      "                 TEAMNAME  DISCIPLINE                   COUNTRY EVENT\n",
      "216             Argentina  Basketball                 Argentina   Men\n",
      "217             Australia  Basketball                 Australia   Men\n",
      "222        Czech Republic  Basketball            Czech Republic   Men\n",
      "223                France  Basketball                    France   Men\n",
      "225               Germany  Basketball                   Germany   Men\n",
      "226  Islamic Rep. of Iran  Basketball  Islamic Republic of Iran   Men\n",
      "227                 Italy  Basketball                     Italy   Men\n",
      "228                 Japan  Basketball                     Japan   Men\n",
      "230               Nigeria  Basketball                   Nigeria   Men\n",
      "235              Slovenia  Basketball                  Slovenia   Men\n",
      "236                 Spain  Basketball                     Spain   Men\n",
      "238         United States  Basketball  United States of America   Men\n",
      "              TEAMNAME  DISCIPLINE                     COUNTRY  EVENT\n",
      "218          Australia  Basketball                   Australia  Women\n",
      "219            Belgium  Basketball                     Belgium  Women\n",
      "220             Canada  Basketball                      Canada  Women\n",
      "221              China  Basketball  People's Republic of China  Women\n",
      "224             France  Basketball                      France  Women\n",
      "229              Japan  Basketball                       Japan  Women\n",
      "231            Nigeria  Basketball                     Nigeria  Women\n",
      "232        Puerto Rico  Basketball                 Puerto Rico  Women\n",
      "233  Republic of Korea  Basketball           Republic of Korea  Women\n",
      "234             Serbia  Basketball                      Serbia  Women\n",
      "237              Spain  Basketball                       Spain  Women\n",
      "239      United States  Basketball    United States of America  Women\n",
      "                 TEAMNAME  DISCIPLINE                   COUNTRY EVENT\n",
      "697             Argentina  Volleyball                 Argentina   Men\n",
      "699                Brazil  Volleyball                    Brazil   Men\n",
      "701                Canada  Volleyball                    Canada   Men\n",
      "704                France  Volleyball                    France   Men\n",
      "705  Islamic Rep. of Iran  Volleyball  Islamic Republic of Iran   Men\n",
      "706                 Italy  Volleyball                     Italy   Men\n",
      "708                 Japan  Volleyball                     Japan   Men\n",
      "711                Poland  Volleyball                    Poland   Men\n",
      "713                   ROC  Volleyball                       ROC   Men\n",
      "716               Tunisia  Volleyball                   Tunisia   Men\n",
      "718         United States  Volleyball  United States of America   Men\n",
      "720             Venezuela  Volleyball                 Venezuela   Men\n",
      "              TEAMNAME  DISCIPLINE                     COUNTRY  EVENT\n",
      "698          Argentina  Volleyball                   Argentina  Women\n",
      "700             Brazil  Volleyball                      Brazil  Women\n",
      "702              China  Volleyball  People's Republic of China  Women\n",
      "703     Dominican Rep.  Volleyball          Dominican Republic  Women\n",
      "707              Italy  Volleyball                       Italy  Women\n",
      "709              Japan  Volleyball                       Japan  Women\n",
      "710              Kenya  Volleyball                       Kenya  Women\n",
      "712  Republic of Korea  Volleyball           Republic of Korea  Women\n",
      "714                ROC  Volleyball                         ROC  Women\n",
      "715             Serbia  Volleyball                      Serbia  Women\n",
      "717             Turkey  Volleyball                      Turkey  Women\n",
      "719      United States  Volleyball    United States of America  Women\n",
      "      TEAMNAME DISCIPLINE    COUNTRY EVENT\n",
      "433  Argentina   Handball  Argentina   Men\n",
      "434    Bahrain   Handball    Bahrain   Men\n",
      "435     Brazil   Handball     Brazil   Men\n",
      "437    Denmark   Handball    Denmark   Men\n",
      "438      Egypt   Handball      Egypt   Men\n",
      "439     France   Handball     France   Men\n",
      "441    Germany   Handball    Germany   Men\n",
      "443      Japan   Handball      Japan   Men\n",
      "447     Norway   Handball     Norway   Men\n",
      "449   Portugal   Handball   Portugal   Men\n",
      "452      Spain   Handball      Spain   Men\n",
      "454     Sweden   Handball     Sweden   Men\n",
      "              TEAMNAME DISCIPLINE            COUNTRY  EVENT\n",
      "432             Angola   Handball             Angola  Women\n",
      "436             Brazil   Handball             Brazil  Women\n",
      "440             France   Handball             France  Women\n",
      "442            Hungary   Handball            Hungary  Women\n",
      "444              Japan   Handball              Japan  Women\n",
      "445         Montenegro   Handball         Montenegro  Women\n",
      "446        Netherlands   Handball        Netherlands  Women\n",
      "448             Norway   Handball             Norway  Women\n",
      "450  Republic of Korea   Handball  Republic of Korea  Women\n",
      "451                ROC   Handball                ROC  Women\n",
      "453              Spain   Handball              Spain  Women\n",
      "455             Sweden   Handball             Sweden  Women\n"
     ]
    }
   ],
   "source": [
    "teams = pd.read_csv(\"../data/teams.csv\", encoding='unicode_escape')\n",
    "# How many teams participate in each Olympic game?\n",
    "print(teams.groupby('DISCIPLINE')['TEAMNAME'].count().sort_values(ascending=False))\n",
    "\n",
    "# What are the Men teams participate in Football game?\n",
    "print(teams[(teams['DISCIPLINE']=='Football') & (teams['EVENT']=='Men')])\n",
    "# What are the Women teams participate in Football game?\n",
    "print(teams[(teams['DISCIPLINE']=='Football') & (teams['EVENT']=='Women')])\n",
    "# What are the Men teams participate in Basketball game?\n",
    "print(teams[(teams['DISCIPLINE']=='Basketball') & (teams['EVENT']=='Men')])\n",
    "# What are the Women teams participate in Basketball game?\n",
    "print(teams[(teams['DISCIPLINE']=='Basketball') & (teams['EVENT']=='Women')])\n",
    "# What are the Men teams participate in Volleyball game?\n",
    "print(teams[(teams['DISCIPLINE']=='Volleyball') & (teams['EVENT']=='Men')])\n",
    "# What are the Women teams participate in Volleyball game?\n",
    "print(teams[(teams['DISCIPLINE']=='Volleyball') & (teams['EVENT']=='Women')])\n",
    "# What are the Men teams participate in Handball game?\n",
    "print(teams[(teams['DISCIPLINE']=='Handball') & (teams['EVENT']=='Men')])\n",
    "# What are the Women teams participate in Handball game?\n",
    "print(teams[(teams['DISCIPLINE']=='Handball') & (teams['EVENT']=='Women')])"
   ]
  }
 ],
 "metadata": {
  "kernelspec": {
   "display_name": "Python 3",
   "language": "python",
   "name": "python3"
  },
  "language_info": {
   "codemirror_mode": {
    "name": "ipython",
    "version": 3
   },
   "file_extension": ".py",
   "mimetype": "text/x-python",
   "name": "python",
   "nbconvert_exporter": "python",
   "pygments_lexer": "ipython3",
   "version": "3.12.4"
  }
 },
 "nbformat": 4,
 "nbformat_minor": 2
}
